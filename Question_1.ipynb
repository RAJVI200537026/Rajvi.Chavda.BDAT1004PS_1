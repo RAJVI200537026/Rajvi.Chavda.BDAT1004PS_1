{
 "cells": [
  {
   "cell_type": "code",
   "execution_count": 8,
   "id": "9eb33a24",
   "metadata": {},
   "outputs": [
    {
     "name": "stdout",
     "output_type": "stream",
     "text": [
      "\n",
      " 5  : System.Int32\n",
      "\n",
      " 5.0 : System.Double\n",
      "\n",
      " 5>1: System.Boolean\n",
      "\n",
      " '5': System.Char\n",
      "\n",
      " 5*2 : System.Int32\n",
      "\n",
      " '5' * 2 : System.Int32\n",
      "\n",
      " '5' + '2' : System.String\n",
      "\n",
      " 5 / 2: System.Double\n",
      "\n",
      " 5 % 2: System.Int32\n",
      "\n",
      " {5,2,1}: System.Int32[]\n",
      "\n",
      " 5 == 3: System.Boolean\n",
      "\n",
      " PI: System.Double\n"
     ]
    }
   ],
   "source": [
    "int num1 = 5;\n",
    "        Console.WriteLine(\"\\n 5  : \" + num1.GetType());\n",
    "\n",
    "\n",
    "        double num2 = 5.0;\n",
    "        Console.WriteLine(\"\\n 5.0 : \" + num2.GetType());\n",
    "\n",
    "     \n",
    "        bool result1 = 5 > 1;\n",
    "        Console.WriteLine(\"\\n 5>1: \" + result1.GetType());\n",
    "\n",
    "\n",
    "        char char1 = '5';\n",
    "        Console.WriteLine(\"\\n '5': \" + char1.GetType());\n",
    "\n",
    "   \n",
    "        int num3 = 5 * 2;\n",
    "        Console.WriteLine(\"\\n 5*2 : \" + num3.GetType());\n",
    "\n",
    "        int num4 = ('5' - '0') * 2; \n",
    "        Console.WriteLine(\"\\n '5' * 2 : \" + num4.GetType());\n",
    "\n",
    "      \n",
    "        string str1 = '5' + \"2\";\n",
    "        Console.WriteLine(\"\\n '5' + '2' : \" + str1.GetType());\n",
    "\n",
    "\n",
    "        double num5 = 5 / 2.0; \n",
    "        Console.WriteLine(\"\\n 5 / 2: \" + num5.GetType());\n",
    "\n",
    "       \n",
    "        int num6 = 5 % 2;\n",
    "        Console.WriteLine(\"\\n 5 % 2: \" + num6.GetType());\n",
    "\n",
    "\n",
    "        int[] arr = { 5, 2, 1 };\n",
    "        Console.WriteLine(\"\\n {5,2,1}: \" + arr.GetType());\n",
    "\n",
    "   \n",
    "        bool result2 = 5 == 3;\n",
    "        Console.WriteLine(\"\\n 5 == 3: \" + result2.GetType());\n",
    "\n",
    "       \n",
    "        double pi = Math.PI;\n",
    "        Console.WriteLine(\"\\n PI: \" + pi.GetType());"
   ]
  },
  {
   "cell_type": "code",
   "execution_count": null,
   "id": "39cb51ca",
   "metadata": {},
   "outputs": [],
   "source": []
  }
 ],
 "metadata": {
  "kernelspec": {
   "display_name": ".NET (C#)",
   "language": "C#",
   "name": ".net-csharp"
  },
  "language_info": {
   "file_extension": ".cs",
   "mimetype": "text/x-csharp",
   "name": "C#",
   "pygments_lexer": "csharp",
   "version": "11.0"
  }
 },
 "nbformat": 4,
 "nbformat_minor": 5
}
